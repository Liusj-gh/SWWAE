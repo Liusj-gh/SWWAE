{
 "cells": [
  {
   "cell_type": "code",
   "execution_count": 1,
   "metadata": {
    "collapsed": true
   },
   "outputs": [],
   "source": [
    "from __future__ import print_function\n",
    "import pickle \n",
    "import numpy as np\n",
    "import argparse\n",
    "import torch\n",
    "import torch.nn as nn\n",
    "import torch.nn.functional as F\n",
    "import torch.optim as optim\n",
    "from torchvision import datasets, transforms\n",
    "from torch.autograd import Variable"
   ]
  },
  {
   "cell_type": "code",
   "execution_count": 2,
   "metadata": {
    "collapsed": false
   },
   "outputs": [
    {
     "name": "stdout",
     "output_type": "stream",
     "text": [
      "Files already downloaded\n",
      "3000\n",
      "750\n"
     ]
    }
   ],
   "source": [
    "from sub import subMNIST       # testing the subclass of MNIST dataset"
   ]
  },
  {
   "cell_type": "markdown",
   "metadata": {},
   "source": [
    "# Split Data"
   ]
  },
  {
   "cell_type": "code",
   "execution_count": 3,
   "metadata": {
    "collapsed": true
   },
   "outputs": [],
   "source": [
    "transform=transforms.Compose([transforms.ToTensor(),\n",
    "                              transforms.Normalize((0.1307,), (0.3081,))\n",
    "                             ])"
   ]
  },
  {
   "cell_type": "code",
   "execution_count": 4,
   "metadata": {
    "collapsed": false
   },
   "outputs": [
    {
     "name": "stdout",
     "output_type": "stream",
     "text": [
      "Files already downloaded\n"
     ]
    }
   ],
   "source": [
    "trainset_original = datasets.MNIST('../data', train=True, download=True,\n",
    "                                  transform=transform)"
   ]
  },
  {
   "cell_type": "code",
   "execution_count": 5,
   "metadata": {
    "collapsed": false
   },
   "outputs": [],
   "source": [
    "train_label_index = []\n",
    "valid_label_index = []\n",
    "for i in range(10):\n",
    "    train_label_list = trainset_original.train_labels.numpy()\n",
    "    label_index = np.where(train_label_list == i)[0]\n",
    "    label_subindex = list(label_index[:300])\n",
    "    valid_subindex = list(label_index[300: 1000 + 300])\n",
    "    train_label_index += label_subindex\n",
    "    valid_label_index += valid_subindex"
   ]
  },
  {
   "cell_type": "markdown",
   "metadata": {},
   "source": [
    "## Train Set"
   ]
  },
  {
   "cell_type": "code",
   "execution_count": 6,
   "metadata": {
    "collapsed": false
   },
   "outputs": [],
   "source": [
    "trainset_np = trainset_original.train_data.numpy()\n",
    "trainset_label_np = trainset_original.train_labels.numpy()\n",
    "train_data_sub = torch.from_numpy(trainset_np[train_label_index])\n",
    "train_labels_sub = torch.from_numpy(trainset_label_np[train_label_index])"
   ]
  },
  {
   "cell_type": "code",
   "execution_count": 7,
   "metadata": {
    "collapsed": false
   },
   "outputs": [
    {
     "name": "stdout",
     "output_type": "stream",
     "text": [
      "Files already downloaded\n"
     ]
    }
   ],
   "source": [
    "trainset_new = subMNIST(root='./data', train=True, download=True, transform=transform, k=3000)\n",
    "trainset_new.train_data = train_data_sub.clone()\n",
    "trainset_new.train_labels = train_labels_sub.clone()"
   ]
  },
  {
   "cell_type": "code",
   "execution_count": 8,
   "metadata": {
    "collapsed": false
   },
   "outputs": [
    {
     "data": {
      "text/plain": [
       "torch.Size([3000, 28, 28])"
      ]
     },
     "execution_count": 8,
     "metadata": {},
     "output_type": "execute_result"
    }
   ],
   "source": [
    "trainset_new.train_data.size()"
   ]
  },
  {
   "cell_type": "code",
   "execution_count": 9,
   "metadata": {
    "collapsed": true
   },
   "outputs": [],
   "source": [
    "pickle.dump(trainset_new, open(\"train_labeled.p\", \"wb\" ))"
   ]
  },
  {
   "cell_type": "markdown",
   "metadata": {},
   "source": [
    "## Validation Set"
   ]
  },
  {
   "cell_type": "code",
   "execution_count": 10,
   "metadata": {
    "collapsed": true
   },
   "outputs": [],
   "source": [
    "validset_np = trainset_original.train_data.numpy()\n",
    "validset_label_np = trainset_original.train_labels.numpy()\n",
    "valid_data_sub = torch.from_numpy(validset_np[valid_label_index])\n",
    "valid_labels_sub = torch.from_numpy(validset_label_np[valid_label_index])"
   ]
  },
  {
   "cell_type": "code",
   "execution_count": 11,
   "metadata": {
    "collapsed": false
   },
   "outputs": [
    {
     "name": "stdout",
     "output_type": "stream",
     "text": [
      "Files already downloaded\n"
     ]
    }
   ],
   "source": [
    "validset = subMNIST(root='./data', train=False, download=True, transform=transform, k=10000)\n",
    "validset.test_data = valid_data_sub.clone()\n",
    "validset.test_labels = valid_labels_sub.clone()"
   ]
  },
  {
   "cell_type": "code",
   "execution_count": 12,
   "metadata": {
    "collapsed": false
   },
   "outputs": [
    {
     "data": {
      "text/plain": [
       "torch.Size([10000, 28, 28])"
      ]
     },
     "execution_count": 12,
     "metadata": {},
     "output_type": "execute_result"
    }
   ],
   "source": [
    "validset.test_data.size()"
   ]
  },
  {
   "cell_type": "code",
   "execution_count": 13,
   "metadata": {
    "collapsed": true
   },
   "outputs": [],
   "source": [
    "pickle.dump(validset, open(\"validation.p\", \"wb\" ))"
   ]
  },
  {
   "cell_type": "markdown",
   "metadata": {
    "collapsed": true
   },
   "source": [
    "## Unlabeled Data"
   ]
  },
  {
   "cell_type": "code",
   "execution_count": 14,
   "metadata": {
    "collapsed": false
   },
   "outputs": [],
   "source": [
    "train_unlabel_index = []\n",
    "for i in range(60000):\n",
    "    if i in train_label_index or i in valid_label_index:\n",
    "        pass\n",
    "    else:\n",
    "        train_unlabel_index.append(i)"
   ]
  },
  {
   "cell_type": "code",
   "execution_count": 15,
   "metadata": {
    "collapsed": false
   },
   "outputs": [],
   "source": [
    "trainset_np = trainset_original.train_data.numpy()\n",
    "trainset_label_np = trainset_original.train_labels.numpy()\n",
    "train_data_sub_unl = torch.from_numpy(trainset_np[train_unlabel_index])\n",
    "#train_labels_sub_unl = torch.from_numpy(trainset_label_np[train_unlabel_index])\n",
    "temp = np.empty(47000)\n",
    "temp.fill(-1)\n",
    "train_labels_sub_unl = torch.from_numpy(temp)"
   ]
  },
  {
   "cell_type": "code",
   "execution_count": 16,
   "metadata": {
    "collapsed": false
   },
   "outputs": [
    {
     "name": "stdout",
     "output_type": "stream",
     "text": [
      "Files already downloaded\n"
     ]
    }
   ],
   "source": [
    "trainset_new_unl = subMNIST(root='./data', train=True, download=True, transform=transform, k=47000)\n",
    "trainset_new_unl.train_data = train_data_sub_unl.clone()\n",
    "trainset_new_unl.train_labels = train_labels_sub_unl.clone()      # Unlabeled!!"
   ]
  },
  {
   "cell_type": "code",
   "execution_count": 17,
   "metadata": {
    "collapsed": false
   },
   "outputs": [
    {
     "data": {
      "text/plain": [
       "47000L"
      ]
     },
     "execution_count": 17,
     "metadata": {},
     "output_type": "execute_result"
    }
   ],
   "source": [
    "trainset_new_unl.train_data.size()[0]"
   ]
  },
  {
   "cell_type": "code",
   "execution_count": 18,
   "metadata": {
    "collapsed": false
   },
   "outputs": [
    {
     "data": {
      "text/plain": [
       "torch.Size([47000])"
      ]
     },
     "execution_count": 18,
     "metadata": {},
     "output_type": "execute_result"
    }
   ],
   "source": [
    "trainset_new_unl.train_labels.size()"
   ]
  },
  {
   "cell_type": "code",
   "execution_count": 19,
   "metadata": {
    "collapsed": true
   },
   "outputs": [],
   "source": [
    "pickle.dump(trainset_new_unl, open(\"train_unlabeled.p\", \"wb\" ))"
   ]
  },
  {
   "cell_type": "markdown",
   "metadata": {},
   "source": [
    "# Training"
   ]
  },
  {
   "cell_type": "code",
   "execution_count": 20,
   "metadata": {
    "collapsed": false
   },
   "outputs": [
    {
     "ename": "IOError",
     "evalue": "[Errno 2] No such file or directory: 'test.p'",
     "output_type": "error",
     "traceback": [
      "\u001b[0;31m---------------------------------------------------------------------------\u001b[0m",
      "\u001b[0;31mIOError\u001b[0m                                   Traceback (most recent call last)",
      "\u001b[0;32m<ipython-input-20-60f38fb1989d>\u001b[0m in \u001b[0;36m<module>\u001b[0;34m()\u001b[0m\n\u001b[1;32m      3\u001b[0m \u001b[0mvalidset_import\u001b[0m \u001b[0;34m=\u001b[0m \u001b[0mpickle\u001b[0m\u001b[0;34m.\u001b[0m\u001b[0mload\u001b[0m\u001b[0;34m(\u001b[0m\u001b[0mopen\u001b[0m\u001b[0;34m(\u001b[0m\u001b[0;34m\"validation.p\"\u001b[0m\u001b[0;34m,\u001b[0m \u001b[0;34m\"rb\"\u001b[0m\u001b[0;34m)\u001b[0m\u001b[0;34m)\u001b[0m\u001b[0;34m\u001b[0m\u001b[0m\n\u001b[1;32m      4\u001b[0m \u001b[0munlabelset_import\u001b[0m \u001b[0;34m=\u001b[0m \u001b[0mpickle\u001b[0m\u001b[0;34m.\u001b[0m\u001b[0mload\u001b[0m\u001b[0;34m(\u001b[0m\u001b[0mopen\u001b[0m\u001b[0;34m(\u001b[0m\u001b[0;34m\"train_unlabeled.p\"\u001b[0m\u001b[0;34m,\u001b[0m \u001b[0;34m\"rb\"\u001b[0m\u001b[0;34m)\u001b[0m\u001b[0;34m)\u001b[0m\u001b[0;34m\u001b[0m\u001b[0m\n\u001b[0;32m----> 5\u001b[0;31m \u001b[0mtestset_import\u001b[0m \u001b[0;34m=\u001b[0m \u001b[0mpickle\u001b[0m\u001b[0;34m.\u001b[0m\u001b[0mload\u001b[0m\u001b[0;34m(\u001b[0m\u001b[0mopen\u001b[0m\u001b[0;34m(\u001b[0m\u001b[0;34m\"test.p\"\u001b[0m\u001b[0;34m,\u001b[0m \u001b[0;34m\"rb\"\u001b[0m\u001b[0;34m)\u001b[0m\u001b[0;34m)\u001b[0m\u001b[0;34m\u001b[0m\u001b[0m\n\u001b[0m",
      "\u001b[0;31mIOError\u001b[0m: [Errno 2] No such file or directory: 'test.p'"
     ]
    }
   ],
   "source": [
    "## load from pickle\n",
    "trainset_import = pickle.load(open(\"train_labeled.p\", \"rb\"))\n",
    "validset_import = pickle.load(open(\"validation.p\", \"rb\"))\n",
    "unlabelset_import = pickle.load(open(\"train_unlabeled.p\", \"rb\"))\n",
    "testset_import = pickle.load(open(\"test.p\", \"rb\"))"
   ]
  },
  {
   "cell_type": "code",
   "execution_count": null,
   "metadata": {
    "collapsed": false
   },
   "outputs": [],
   "source": [
    "train_loader = torch.utils.data.DataLoader(trainset_import, batch_size=32, shuffle=True)\n",
    "valid_loader = torch.utils.data.DataLoader(validset_import, batch_size=64, shuffle=True)\n",
    "unlabel_loader = torch.utils.data.DataLoader(unlabelset_import, batch_size=32, shuffle=True)\n",
    "#train_loader = torch.utils.data.DataLoader(trainset_import, batch_size=1, shuffle=True) \n",
    "#valid_loader = torch.utils.data.DataLoader(validset_import, batch_size=1, shuffle=True)\n",
    "#unlabel_loader = torch.utils.data.DataLoader(unlabelset_import, batch_size=1, shuffle=True)"
   ]
  },
  {
   "cell_type": "code",
   "execution_count": null,
   "metadata": {
    "collapsed": false
   },
   "outputs": [],
   "source": [
    "for label, unlabel in zip(enumerate(train_loader), enumerate(unlabel_loader)):\n",
    "    batch_idx, (data, target) = label\n",
    "    batch_idx, (data_un, target_un) = unlabel\n",
    "    data = torch.cat((data, data_un), 0)\n",
    "    target = torch.cat((target, torch.LongTensor(32).fill_(-1)), 0)\n",
    "    #train_loader = batch_idx, (data, target)"
   ]
  },
  {
   "cell_type": "code",
   "execution_count": null,
   "metadata": {
    "collapsed": false
   },
   "outputs": [],
   "source": [
    "c=0\n",
    "for label in enumerate(train_loader):\n",
    "    batch_idx, (data, target) = label\n",
    "    if c==0:\n",
    "        print(data)\n",
    "    c += 1    "
   ]
  },
  {
   "cell_type": "code",
   "execution_count": null,
   "metadata": {
    "collapsed": false
   },
   "outputs": [],
   "source": [
    "## defining the CNN\n",
    "class Net(nn.Module):\n",
    "    def __init__(self):\n",
    "        super(Net, self).__init__()\n",
    "        self.conv1 = nn.Conv2d(1, 10, kernel_size=5)\n",
    "        self.conv2 = nn.Conv2d(10, 20, kernel_size=5)\n",
    "        self.conv2_drop = nn.Dropout2d()\n",
    "        self.fc1 = nn.Linear(320, 50)\n",
    "        self.fc2 = nn.Linear(50, 10)\n",
    "        # Deconvolution\n",
    "        self.fc3 = nn.Linear(10, 50)\n",
    "        self.fc4 = nn.Linear(50, 320)\n",
    "        self.deconv1 = nn.ConvTranspose2d(20, 10, kernel_size=5)\n",
    "        self.deconv2 = nn.ConvTranspose2d(10, 1, kernel_size=5)\n",
    "        #Loss\n",
    "        self.loss_fn = nn.MSELoss()\n",
    "        \n",
    "\n",
    "    def forward(self, x):\n",
    "        x, indices1 = F.max_pool2d(self.conv1(x), 2, return_indices=True) \n",
    "        x_CONVI = F.relu(x)\n",
    "        x, indices2 = F.max_pool2d(self.conv2_drop(self.conv2(x_CONVI)), 2, return_indices=True)\n",
    "        x_CONVII = F.relu(x)\n",
    "        x = x_CONVII.view(-1, 20*4*4)\n",
    "        x = F.relu(self.fc1(x))\n",
    "        x = F.dropout(x, training=self.training)\n",
    "        x_NLL = F.relu(self.fc2(x))\n",
    "        x = F.relu(self.fc3(x_NLL))\n",
    "        x_DECONVII = F.relu(self.fc4(x))\n",
    "        x = x_DECONVII.view(self.get_size(x_DECONVII),20,4,4)\n",
    "        x_DECONVI = F.relu(self.deconv1(F.max_unpool2d(x, indices2 , 2, 2)))\n",
    "        output = F.relu(self.deconv2(F.max_unpool2d(x_DECONVI, indices1 , 2, 2)))\n",
    "        return output, F.log_softmax(x_NLL)\n",
    "    def get_size(self, x):\n",
    "        return x.size()[0]\n",
    "\n",
    "## initialize\n",
    "model = Net()"
   ]
  },
  {
   "cell_type": "code",
   "execution_count": null,
   "metadata": {
    "collapsed": false
   },
   "outputs": [],
   "source": [
    "## SGD optimization\n",
    "optimizer = optim.SGD(model.parameters(), lr=0.01, momentum=0.5)"
   ]
  },
  {
   "cell_type": "code",
   "execution_count": null,
   "metadata": {
    "collapsed": false
   },
   "outputs": [],
   "source": [
    "## define two functions to train and test.\n",
    "# CPU only training\n",
    "def train(epoch):\n",
    "    model.train()\n",
    "    crit = nn.MSELoss() # mean squared error as the loss function\n",
    "    for label, unlabel in zip(enumerate(train_loader), enumerate(unlabel_loader)):\n",
    "        batch_idx, (data, target) = label\n",
    "        n = data.size()[0]\n",
    "        batch_idx, (data_un, target_un) = unlabel\n",
    "        data = torch.cat((data, data_un), 0)\n",
    "        target = torch.cat((target, torch.LongTensor(32).fill_(-1)), 0)\n",
    "        #Convert to variables\n",
    "        data, target = Variable(data), Variable(target)\n",
    "        optimizer.zero_grad()\n",
    "        out_decode, output = model(data)\n",
    "        loss_delta = crit(out_decode, data)\n",
    "        loss = F.nll_loss(output[0:n], target[0:n]) + loss_delta\n",
    "        loss.backward()\n",
    "        optimizer.step()\n",
    "        if batch_idx % 10 == 0:\n",
    "            ## every 10 batchs print a status update\n",
    "            print('Train Epoch: {} [{}/{} ({:.0f}%)]\\tLoss: {:.6f}'.format(\n",
    "                epoch, batch_idx * len(data), 2*len(train_loader.dataset),\n",
    "                100. * batch_idx / len(train_loader), loss.data[0]))\n",
    "\n",
    "## now test\n",
    "def test(epoch, valid_loader):\n",
    "    model.eval()\n",
    "    test_loss = 0\n",
    "    correct = 0\n",
    "    for data, target in valid_loader:\n",
    "        data, target = Variable(data, volatile=True), Variable(target)\n",
    "        _, output = model(data)\n",
    "        test_loss += F.nll_loss(output, target).data[0]\n",
    "        pred = output.data.max(1)[1] # get the index of the max log-probability\n",
    "        correct += pred.eq(target.data).cpu().sum()\n",
    "\n",
    "    test_loss /= len(valid_loader) # loss function already averages over batch size\n",
    "    print('\\nTest set: Average loss: {:.4f}, Accuracy: {}/{} ({:.0f}%)\\n'.format(\n",
    "        test_loss, correct, len(valid_loader.dataset),\n",
    "        100. * correct / len(valid_loader.dataset)))"
   ]
  },
  {
   "cell_type": "code",
   "execution_count": null,
   "metadata": {
    "collapsed": false
   },
   "outputs": [],
   "source": [
    "## testing the previously defined functions?\n",
    "for epoch in range(1):\n",
    "    train(epoch)\n",
    "    test(epoch, valid_loader)"
   ]
  },
  {
   "cell_type": "code",
   "execution_count": null,
   "metadata": {
    "collapsed": false
   },
   "outputs": [],
   "source": [
    "##TEMP Files##\n",
    "conv1 = nn.Conv2d(1, 10, kernel_size=5)\n",
    "conv2 = nn.Conv2d(10, 20, kernel_size=5)\n",
    "conv2_drop = nn.Dropout2d()\n",
    "fc1 = nn.Linear(320, 50)\n",
    "fc2 = nn.Linear(50, 10)\n",
    "# Deconvolution\n",
    "fc3 = nn.Linear(10, 50)\n",
    "fc4 = nn.Linear(50, 320)\n",
    "deconv1 = nn.ConvTranspose2d(20, 10, kernel_size=5)\n",
    "deconv2 = nn.ConvTranspose2d(10, 1, kernel_size=5)\n",
    "mseLoss = nn.MSELoss()\n",
    "count = 0\n",
    "for batch_idx, (data, target) in enumerate(train_loader):\n",
    "        if count > 0:\n",
    "            break   \n",
    "        data, target = Variable(data), Variable(target)\n",
    "        print ('Data1: ', data.size())\n",
    "        x, indices1 = F.max_pool2d(conv1(data), 2, return_indices=True) \n",
    "        x_CONVI = F.relu(x)\n",
    "        x, indices2 = F.max_pool2d(conv2_drop(conv2(x_CONVI)), 2, return_indices=True)\n",
    "        x_CONVII = F.relu(x)\n",
    "        x = x_CONVII.view(-1, 320)\n",
    "        x = F.relu(fc1(x))\n",
    "        #x = F.dropout(x, training=training)\n",
    "        x_NLL = F.relu(fc2(x))\n",
    "        x = F.relu(fc3(x_NLL))\n",
    "        x_DECONVII = F.relu(fc4(x))\n",
    "        x = x_DECONVII.view(1,20,4,4)\n",
    "        x_DECONVI = F.relu(deconv1(F.max_unpool2d(x, indices2 , 2, 2)))\n",
    "        output = F.relu(deconv2(F.max_unpool2d(x_DECONVI, indices1 , 2, 2)))\n",
    "        print(mseLoss(x_CONVI, x_DECONVI))\n",
    "        count = count + 1"
   ]
  },
  {
   "cell_type": "code",
   "execution_count": null,
   "metadata": {
    "collapsed": false
   },
   "outputs": [],
   "source": [
    "params = list(model.parameters())\n",
    "for s in range(len(params)):\n",
    "    print(params[s].size())"
   ]
  },
  {
   "cell_type": "markdown",
   "metadata": {},
   "source": [
    "# Create Sample Submission"
   ]
  },
  {
   "cell_type": "code",
   "execution_count": null,
   "metadata": {
    "collapsed": false
   },
   "outputs": [],
   "source": [
    "testset = datasets.MNIST('../data', train=False, transform=transform)"
   ]
  },
  {
   "cell_type": "code",
   "execution_count": null,
   "metadata": {
    "collapsed": false
   },
   "outputs": [],
   "source": [
    "pickle.dump(testset, open(\"test.p\", \"wb\" ))"
   ]
  },
  {
   "cell_type": "code",
   "execution_count": null,
   "metadata": {
    "collapsed": false
   },
   "outputs": [],
   "source": [
    "test_loader = torch.utils.data.DataLoader(testset,batch_size=64, shuffle=False)"
   ]
  },
  {
   "cell_type": "markdown",
   "metadata": {},
   "source": [
    "## Test Accuuracy"
   ]
  },
  {
   "cell_type": "code",
   "execution_count": null,
   "metadata": {
    "collapsed": false
   },
   "outputs": [],
   "source": [
    "test(1, test_loader)"
   ]
  },
  {
   "cell_type": "code",
   "execution_count": null,
   "metadata": {
    "collapsed": false
   },
   "outputs": [],
   "source": [
    "label_predict = np.array([])\n",
    "model.eval()\n",
    "for data, target in test_loader:\n",
    "    data, target = Variable(data, volatile=True), Variable(target)\n",
    "    output = model(data)\n",
    "    temp = output.data.max(1)[1].numpy().reshape(-1)\n",
    "    label_predict = np.concatenate((label_predict, temp))"
   ]
  },
  {
   "cell_type": "code",
   "execution_count": null,
   "metadata": {
    "collapsed": false
   },
   "outputs": [],
   "source": [
    "label_predict"
   ]
  },
  {
   "cell_type": "code",
   "execution_count": null,
   "metadata": {
    "collapsed": false
   },
   "outputs": [],
   "source": [
    "label_true = test_loader.dataset.test_labels.numpy()"
   ]
  },
  {
   "cell_type": "code",
   "execution_count": null,
   "metadata": {
    "collapsed": false
   },
   "outputs": [],
   "source": [
    "diff_array = label_true - label_predict"
   ]
  },
  {
   "cell_type": "code",
   "execution_count": null,
   "metadata": {
    "collapsed": false
   },
   "outputs": [],
   "source": [
    "len(np.where(diff_array != 0)[0])"
   ]
  },
  {
   "cell_type": "code",
   "execution_count": null,
   "metadata": {
    "collapsed": false
   },
   "outputs": [],
   "source": [
    "import pandas as pd\n",
    "true_label = pd.DataFrame(label_true, columns=['label'])\n",
    "true_label.reset_index(inplace=True)\n",
    "true_label.rename(columns={'index': 'ID'}, inplace=True)"
   ]
  },
  {
   "cell_type": "code",
   "execution_count": null,
   "metadata": {
    "collapsed": false
   },
   "outputs": [],
   "source": [
    "true_label.head()"
   ]
  },
  {
   "cell_type": "code",
   "execution_count": null,
   "metadata": {
    "collapsed": true
   },
   "outputs": [],
   "source": [
    "predict_label = pd.DataFrame(label_predict, columns=['label'], dtype=int)\n",
    "predict_label.reset_index(inplace=True)\n",
    "predict_label.rename(columns={'index': 'ID'}, inplace=True)"
   ]
  },
  {
   "cell_type": "code",
   "execution_count": null,
   "metadata": {
    "collapsed": false
   },
   "outputs": [],
   "source": [
    "predict_label.head()"
   ]
  },
  {
   "cell_type": "code",
   "execution_count": null,
   "metadata": {
    "collapsed": false
   },
   "outputs": [],
   "source": [
    "predict_label.to_csv('sample_submission.csv', index=False)\n",
    "true_label.to_csv('true_label.csv', index=False)"
   ]
  }
 ],
 "metadata": {
  "anaconda-cloud": {},
  "kernelspec": {
   "display_name": "Python [default]",
   "language": "python",
   "name": "python2"
  },
  "language_info": {
   "codemirror_mode": {
    "name": "ipython",
    "version": 2
   },
   "file_extension": ".py",
   "mimetype": "text/x-python",
   "name": "python",
   "nbconvert_exporter": "python",
   "pygments_lexer": "ipython2",
   "version": "2.7.12"
  }
 },
 "nbformat": 4,
 "nbformat_minor": 2
}
